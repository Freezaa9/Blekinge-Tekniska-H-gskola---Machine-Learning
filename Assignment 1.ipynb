{
 "cells": [
  {
   "cell_type": "markdown",
   "metadata": {},
   "source": [
    "# Assignment 1\n",
    "Geoffrey HARRAZI\n",
    "19940604-T575"
   ]
  },
  {
   "cell_type": "markdown",
   "metadata": {},
   "source": [
    "# 1) \n",
    "Let X1, X2 and X3 be the three different vectors and each one has 6 samples. Find the correlations between the variable vectors: X1 and X2, X1 and X3, X2 and X3 using correlation coefficient approach. The sample values of three vectors are given as\n",
    "\n",
    "X1 = {2.5, 3.6, 1.2, 0.8, 4.0, 3.4},\n",
    "X2 = {1.2, 1.0, 1.8, 0.9, 3.0, 2.2},\n",
    "X3 = {8.0, 15.0, 12.0, 6.0, 8.0, 10.0}"
   ]
  },
  {
   "cell_type": "code",
   "execution_count": 24,
   "metadata": {},
   "outputs": [],
   "source": [
    "#Import\n",
    "import numpy as np\n",
    "import pandas as pd"
   ]
  },
  {
   "cell_type": "code",
   "execution_count": 25,
   "metadata": {},
   "outputs": [
    {
     "name": "stdout",
     "output_type": "stream",
     "text": [
      "[2.5, 3.6, 1.2, 0.8, 4.0, 3.4]\n",
      "[1.2, 1.0, 1.8, 0.9, 3.0, 2.2]\n",
      "[8.0, 15.0, 12.0, 6.0, 8.0, 10.0]\n"
     ]
    }
   ],
   "source": [
    "#Declaration of the three vectors X1, X2, X3\n",
    "X1=[2.5, 3.6, 1.2, 0.8, 4.0, 3.4]\n",
    "X2=[1.2, 1.0, 1.8, 0.9, 3.0, 2.2]\n",
    "X3=[8.0, 15.0, 12.0, 6.0, 8.0, 10.0]\n",
    "\n",
    "print(X1)\n",
    "print(X2)\n",
    "print(X3)\n"
   ]
  },
  {
   "cell_type": "code",
   "execution_count": 26,
   "metadata": {},
   "outputs": [],
   "source": [
    "#Function de correlation entre deux variables\n",
    "\n",
    "def correlation_two_variables(x,y):\n",
    "    #Creation of the array we will work with\n",
    "    #1 collumn =  temporary names of the two variables on which we will perform\n",
    "    #correlation coefficient approach\n",
    "    #2 column = data x\n",
    "    #3 column = data y\n",
    "    #4 column = xj-mean_x\n",
    "    #5 column = yj-mean_y\n",
    "    #6 column = (xj-mean_x)^2\n",
    "    #7 column = (yj-mean_y)^2\n",
    "    data_np=np.array([['x','y'],[0,0,0,0,0,0],[0,0,0,0,0,0],[0,0,0,0,0,0],[0,0,0,0,0,0],[0,0,0,0,0,0],[0,0,0,0,0,0]])\n",
    "    #Set the two variables in the array\n",
    "    data_np[1]=x\n",
    "    data_np[2]=y\n",
    "    print(data_np)\n",
    "    #calcul of the x and y mean\n",
    "    mean_x=np.mean(data_np[1])\n",
    "    mean_y=np.mean(data_np[2])\n",
    "    print(\"Mean x = \"+str(mean_x)+\" Mean y = \"+str(mean_y))\n",
    "    #Calcul of all xj-mean_x and (xj-mean_x)^2\n",
    "    i=0\n",
    "    for x in data_np[1]:\n",
    "        data_np[3][i] = (x-mean_x)\n",
    "        data_np[5][i] = data_np[3][i]*data_np[3][i]\n",
    "        i=i+1\n",
    "    #Calcul of all yj-mean_y and (yj-mean_y)^2\n",
    "    i=0\n",
    "    for x in data_np[2]:\n",
    "        data_np[4][i] = (x-mean_y)\n",
    "        data_np[6][i] = data_np[4][i]*data_np[4][i]\n",
    "        i=i+1\n",
    "    #Calcul of Sxx\n",
    "    sxx=((np.sum(data_np[5]))/4)**0.5\n",
    "    print(\"Sxx= \"+str(sxx))\n",
    "    #Calcul of Syy\n",
    "    syy=((np.sum(data_np[6]))/4)**0.5\n",
    "    print(\"Syy= \"+str(syy))\n",
    "    sxy=0\n",
    "    i=0\n",
    "    #Calcul of Sxy\n",
    "    for x in data_np[3]:\n",
    "        sxy=sxy+(x*data_np[4][i])\n",
    "        i=i+1\n",
    "    sxy=sxy/4\n",
    "    print(\"Sxy= \"+str(sxy))\n",
    "    #Calcul of the correlation coeficient\n",
    "    correlation = sxy/(sxx*syy)\n",
    "    print(\"Correlation Coefficient= \"+str(correlation))"
   ]
  },
  {
   "cell_type": "markdown",
   "metadata": {},
   "source": [
    "\"Correlation\" is half close to +1. Therefore we can conclude that there is a noticeable positive correlation between X1 and X2"
   ]
  },
  {
   "cell_type": "code",
   "execution_count": 27,
   "metadata": {},
   "outputs": [
    {
     "name": "stdout",
     "output_type": "stream",
     "text": [
      "[list(['x', 'y']) list([2.5, 3.6, 1.2, 0.8, 4.0, 3.4])\n",
      " list([1.2, 1.0, 1.8, 0.9, 3.0, 2.2]) list([0, 0, 0, 0, 0, 0])\n",
      " list([0, 0, 0, 0, 0, 0]) list([0, 0, 0, 0, 0, 0])\n",
      " list([0, 0, 0, 0, 0, 0])]\n",
      "Mean x = 2.5833333333333335 Mean y = 1.6833333333333336\n",
      "Sxx= 1.4839418227590102\n",
      "Syy= 0.9121860190407072\n",
      "Sxy= 0.7170833333333333\n",
      "Correlation Coefficient= 0.5297480198963057\n"
     ]
    }
   ],
   "source": [
    "correlation_two_variables(X1,X2)"
   ]
  },
  {
   "cell_type": "markdown",
   "metadata": {},
   "source": [
    "\"Correlation\" is not so close to +1. Therefore we can conclude that there is a little positive correlation between X1 and X3"
   ]
  },
  {
   "cell_type": "code",
   "execution_count": 28,
   "metadata": {},
   "outputs": [
    {
     "name": "stdout",
     "output_type": "stream",
     "text": [
      "[list(['x', 'y']) list([2.5, 3.6, 1.2, 0.8, 4.0, 3.4])\n",
      " list([8.0, 15.0, 12.0, 6.0, 8.0, 10.0]) list([0, 0, 0, 0, 0, 0])\n",
      " list([0, 0, 0, 0, 0, 0]) list([0, 0, 0, 0, 0, 0])\n",
      " list([0, 0, 0, 0, 0, 0])]\n",
      "Mean x = 2.5833333333333335 Mean y = 9.833333333333334\n",
      "Sxx= 1.4839418227590102\n",
      "Syy= 3.6343270812260875\n",
      "Sxy= 1.6958333333333326\n",
      "Correlation Coefficient= 0.31444325428480674\n"
     ]
    }
   ],
   "source": [
    "correlation_two_variables(X1,X3)"
   ]
  },
  {
   "cell_type": "markdown",
   "metadata": {},
   "source": [
    "\"Correlation\" is close to 0. Therefore we can conclude that there is no correlation or a little negative correlation between X2 and X3"
   ]
  },
  {
   "cell_type": "code",
   "execution_count": 29,
   "metadata": {},
   "outputs": [
    {
     "name": "stdout",
     "output_type": "stream",
     "text": [
      "[list(['x', 'y']) list([1.2, 1.0, 1.8, 0.9, 3.0, 2.2])\n",
      " list([8.0, 15.0, 12.0, 6.0, 8.0, 10.0]) list([0, 0, 0, 0, 0, 0])\n",
      " list([0, 0, 0, 0, 0, 0]) list([0, 0, 0, 0, 0, 0])\n",
      " list([0, 0, 0, 0, 0, 0])]\n",
      "Mean x = 1.6833333333333336 Mean y = 9.833333333333334\n",
      "Sxx= 0.9121860190407072\n",
      "Syy= 3.6343270812260875\n",
      "Sxy= -0.4291666666666666\n",
      "Correlation Coefficient= -0.12945492014724624\n"
     ]
    }
   ],
   "source": [
    "correlation_two_variables(X2,X3)"
   ]
  },
  {
   "attachments": {
    "image.png": {
     "image/png": "[encoded data removed]"
    }
   },
   "cell_type": "markdown",
   "metadata": {},
   "source": [
    "# 2)\n",
    "k nearest neighbour (called X) has been used to estimate the price of the houses based on\n",
    "three different variables which are the number of rooms, size of house in m 2 , and age of\n",
    "houses. The training set is given below which is used to train the algorithm. Use the test\n",
    "dataset to estimate the price of the houses based on the k nearest neighbour algorithm (for\n",
    "k=1 and k=2).\n",
    "![image.png](attachment:image.png)"
   ]
  },
  {
   "cell_type": "code",
   "execution_count": 30,
   "metadata": {},
   "outputs": [],
   "source": [
    "#Declaration of the 2 testing datasets\n",
    "#I multiply the number of room by 20 and the age of the house by 2 before performing\n",
    "#the euclidean distance to avoid that the size of the house has a too much weight during the sum of the distance.\n",
    "sh1=np.array([0,4,100,25])*[1,20,1,2]\n",
    "sh2=np.array([0,1,60,20])*[1,20,1,2]"
   ]
  },
  {
   "cell_type": "code",
   "execution_count": 81,
   "metadata": {},
   "outputs": [],
   "source": [
    "#Distance function that will calculate the distance and print the minimum distance\n",
    "#for a given test dataset\n",
    "def distance(sh,k=1):\n",
    "    #Declaration of the training datasets\n",
    "    #I multiply the number of room by 20 and the age of the house by 2 before performing\n",
    "    #the euclidean distance to avoid that the size of the house has a too much weight during the sum of the distance.\n",
    "    h1=np.array([500000,2,45,25])*[1,20,1,2]\n",
    "    h2=np.array([800000,3,65,30])*[1,20,1,2]\n",
    "    h3=np.array([1000000,6,100,40])*[1,20,1,2]\n",
    "    h4=np.array([350000,2,30,20])*[1,20,1,2]\n",
    "    h5=np.array([100000,2,25,20])*[1,20,1,2]\n",
    "    house = np.array([h1,h2,h3,h4,h5])\n",
    "    distance = list()\n",
    "    sum_distance = list()\n",
    "    house_nb=1\n",
    "    #calculate and store the euclidian distance for each parameters and houses.\n",
    "    for h in house:\n",
    "        distance.append(abs(h[0:]-sh))\n",
    "        house_nb=house_nb+1\n",
    "    #Print all the calculate distances for each houses and parameters\n",
    "    print(distance)\n",
    "    print(\"____________________________________________________________________________________________________________________\")\n",
    "    #Sum of all the distances parameters per houses\n",
    "    sum_distance.append([distance[0][0],sum(distance[0][1:])])\n",
    "    sum_distance.append([distance[1][0],sum(distance[1][1:])])\n",
    "    sum_distance.append([distance[2][0],sum(distance[2][1:])])\n",
    "    sum_distance.append([distance[3][0],sum(distance[3][1:])])\n",
    "    sum_distance.append([distance[4][0],sum(distance[4][1:])])\n",
    "    #print the new summed distances\n",
    "    print(sum_distance)\n",
    "    #extract the min distance for the 1 nearest neighbour\n",
    "    result=0\n",
    "    min_distance=0\n",
    "    for d in sum_distance:\n",
    "        if d[1]<min_distance or min_distance==0:\n",
    "            min_distance=d[1]\n",
    "            result = d[0]\n",
    "    #extract the min distance for the 2 nearest neighbours\n",
    "    if k==2:\n",
    "        result2=0\n",
    "        min_distance2=0\n",
    "        for d in sum_distance:\n",
    "            if d[1]<min_distance2 or min_distance2==0:\n",
    "                if d[1]!=min_distance:\n",
    "                    min_distance2=d[1]\n",
    "                    result2 = d[0]\n",
    "    print(\"____________________________________________________________________________________________________________________\")\n",
    "    print(\"House price estimation:\")\n",
    "    if k==1:\n",
    "        print(result)\n",
    "    if k==2:\n",
    "        print((result+result2)/2)"
   ]
  },
  {
   "cell_type": "code",
   "execution_count": 82,
   "metadata": {},
   "outputs": [
    {
     "name": "stdout",
     "output_type": "stream",
     "text": [
      "[array([500000,     40,     55,      0]), array([800000,     20,     35,     10]), array([1000000,      40,       0,      30]), array([350000,     40,     70,     10]), array([100000,     40,     75,     10])]\n",
      "____________________________________________________________________________________________________________________\n",
      "[[500000, 95], [800000, 65], [1000000, 70], [350000, 120], [100000, 125]]\n",
      "____________________________________________________________________________________________________________________\n",
      "House price estimation:\n",
      "800000\n"
     ]
    }
   ],
   "source": [
    "#House estimation for the first testing dataset and k=1\n",
    "distance(sh1)"
   ]
  },
  {
   "cell_type": "code",
   "execution_count": 83,
   "metadata": {
    "scrolled": true
   },
   "outputs": [
    {
     "name": "stdout",
     "output_type": "stream",
     "text": [
      "[array([500000,     20,     15,     10]), array([800000,     40,      5,     20]), array([1000000,     100,      40,      40]), array([350000,     20,     30,      0]), array([100000,     20,     35,      0])]\n",
      "____________________________________________________________________________________________________________________\n",
      "[[500000, 45], [800000, 65], [1000000, 180], [350000, 50], [100000, 55]]\n",
      "____________________________________________________________________________________________________________________\n",
      "House price estimation:\n",
      "500000\n"
     ]
    }
   ],
   "source": [
    "#House estimation for the second testing dataset and k=1\n",
    "distance(sh2)"
   ]
  },
  {
   "cell_type": "code",
   "execution_count": 84,
   "metadata": {},
   "outputs": [
    {
     "name": "stdout",
     "output_type": "stream",
     "text": [
      "[array([500000,     40,     55,      0]), array([800000,     20,     35,     10]), array([1000000,      40,       0,      30]), array([350000,     40,     70,     10]), array([100000,     40,     75,     10])]\n",
      "____________________________________________________________________________________________________________________\n",
      "[[500000, 95], [800000, 65], [1000000, 70], [350000, 120], [100000, 125]]\n",
      "____________________________________________________________________________________________________________________\n",
      "House price estimation:\n",
      "900000.0\n"
     ]
    }
   ],
   "source": [
    "#House estimation for the first testing dataset and k=2\n",
    "distance(sh1,2)"
   ]
  },
  {
   "cell_type": "code",
   "execution_count": 85,
   "metadata": {},
   "outputs": [
    {
     "name": "stdout",
     "output_type": "stream",
     "text": [
      "[array([500000,     20,     15,     10]), array([800000,     40,      5,     20]), array([1000000,     100,      40,      40]), array([350000,     20,     30,      0]), array([100000,     20,     35,      0])]\n",
      "____________________________________________________________________________________________________________________\n",
      "[[500000, 45], [800000, 65], [1000000, 180], [350000, 50], [100000, 55]]\n",
      "____________________________________________________________________________________________________________________\n",
      "House price estimation:\n",
      "425000.0\n"
     ]
    }
   ],
   "source": [
    "#House estimation for the second testing dataset and k=2\n",
    "distance(sh2,2)"
   ]
  },
  {
   "cell_type": "code",
   "execution_count": null,
   "metadata": {},
   "outputs": [],
   "source": []
  },
  {
   "cell_type": "code",
   "execution_count": null,
   "metadata": {},
   "outputs": [],
   "source": []
  }
 ],
 "metadata": {
  "kernelspec": {
   "display_name": "Python 3",
   "language": "python",
   "name": "python3"
  },
  "language_info": {
   "codemirror_mode": {
    "name": "ipython",
    "version": 3
   },
   "file_extension": ".py",
   "mimetype": "text/x-python",
   "name": "python",
   "nbconvert_exporter": "python",
   "pygments_lexer": "ipython3",
   "version": "3.7.1"
  }
 },
 "nbformat": 4,
 "nbformat_minor": 2
}
