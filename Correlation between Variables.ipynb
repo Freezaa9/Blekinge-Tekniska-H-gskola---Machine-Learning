{
 "cells": [
  {
   "cell_type": "code",
   "execution_count": 1,
   "metadata": {},
   "outputs": [],
   "source": [
    "import numpy as np\n",
    "import pandas as pd\n"
   ]
  },
  {
   "attachments": {},
   "cell_type": "markdown",
   "metadata": {},
   "source": [
    "Integrate data:\n",
    "Example: Suppose that 5 students were asked their high school GPA and their College GPA, with the answers as follows:\n",
    "We want to know: is high school and college GPA related according to this data, and if they are related, how can we use the high school GPA to predict the college GPA?\n",
    "\n"
   ]
  },
  {
   "cell_type": "code",
   "execution_count": 2,
   "metadata": {},
   "outputs": [
    {
     "data": {
      "text/plain": [
       "[3.8, 3.1, 4, 2.5, 3.3]"
      ]
     },
     "execution_count": 2,
     "metadata": {},
     "output_type": "execute_result"
    }
   ],
   "source": [
    "data_np=np.array([['A','B','C'],[3.8,3.1,4,2.5,3.3],[2.8,2.2,3.5,1.9,2.5],[0,0,0,0,0],[0,0,0,0,0],[0,0,0,0,0],[0,0,0,0,0]])\n",
    "data_np[1]\n"
   ]
  },
  {
   "cell_type": "code",
   "execution_count": 17,
   "metadata": {},
   "outputs": [
    {
     "data": {
      "text/plain": [
       "2.58"
      ]
     },
     "execution_count": 17,
     "metadata": {},
     "output_type": "execute_result"
    }
   ],
   "source": [
    "mean_x=np.mean(data_np[1])\n",
    "mean_x\n",
    "mean_y=np.mean(data_np[2])\n",
    "mean_y"
   ]
  },
  {
   "cell_type": "code",
   "execution_count": 21,
   "metadata": {},
   "outputs": [
    {
     "name": "stdout",
     "output_type": "stream",
     "text": [
      "[list(['A', 'B', 'C']) list([3.8, 3.1, 4, 2.5, 3.3])\n",
      " list([2.8, 2.2, 3.5, 1.9, 2.5])\n",
      " list([0.45999999999999996, -0.23999999999999977, 0.6600000000000001, -0.8399999999999999, -0.040000000000000036])\n",
      " list([0.21999999999999975, -0.3799999999999999, 0.9199999999999999, -0.6800000000000002, -0.08000000000000007])\n",
      " list([0.21159999999999995, 0.05759999999999989, 0.4356000000000002, 0.7055999999999998, 0.001600000000000003])\n",
      " list([0.04839999999999989, 0.14439999999999992, 0.8463999999999998, 0.4624000000000002, 0.006400000000000012])]\n"
     ]
    }
   ],
   "source": [
    "i=0\n",
    "for x in data_np[1]:\n",
    "    data_np[3][i] = (x-mean_x)\n",
    "    data_np[5][i] = data_np[3][i]*data_np[3][i]\n",
    "    i=i+1\n",
    "i=0\n",
    "for x in data_np[2]:\n",
    "    data_np[4][i] = (x-mean_y)\n",
    "    data_np[6][i] = data_np[4][i]*data_np[4][i]\n",
    "    i=i+1\n",
    "print(data_np)"
   ]
  },
  {
   "cell_type": "code",
   "execution_count": 22,
   "metadata": {},
   "outputs": [
    {
     "data": {
      "text/plain": [
       "0.5941380311005179"
      ]
     },
     "execution_count": 22,
     "metadata": {},
     "output_type": "execute_result"
    }
   ],
   "source": [
    "sxx=((np.sum(data_np[5]))/4)**0.5\n",
    "sxx"
   ]
  },
  {
   "cell_type": "code",
   "execution_count": 23,
   "metadata": {},
   "outputs": [
    {
     "data": {
      "text/plain": [
       "0.61400325732035"
      ]
     },
     "execution_count": 23,
     "metadata": {},
     "output_type": "execute_result"
    }
   ],
   "source": [
    "syy=((np.sum(data_np[6]))/4)**0.5\n",
    "syy"
   ]
  },
  {
   "cell_type": "code",
   "execution_count": 26,
   "metadata": {},
   "outputs": [
    {
     "data": {
      "text/plain": [
       "0.3435"
      ]
     },
     "execution_count": 26,
     "metadata": {},
     "output_type": "execute_result"
    }
   ],
   "source": [
    "sxy=0\n",
    "i=0\n",
    "for x in data_np[3]:\n",
    "    sxy=sxy+(x*data_np[4][i])\n",
    "    i=i+1\n",
    "sxy=sxy/4\n",
    "sxy"
   ]
  },
  {
   "cell_type": "code",
   "execution_count": 27,
   "metadata": {},
   "outputs": [
    {
     "data": {
      "text/plain": [
       "0.9416049081101556"
      ]
     },
     "execution_count": 27,
     "metadata": {},
     "output_type": "execute_result"
    }
   ],
   "source": [
    "correlation = sxy/(sxx*syy)\n",
    "correlation"
   ]
  },
  {
   "attachments": {},
   "cell_type": "markdown",
   "metadata": {},
   "source": [
    "\"Correlation\"   is very close to +1. Therefore we can conclude that there is a strong positive correlation between high school GPA and college GPA in this example.\n"
   ]
  }
 ],
 "metadata": {
  "kernelspec": {
   "display_name": "Python 3",
   "language": "python",
   "name": "python3"
  },
  "language_info": {
   "codemirror_mode": {
    "name": "ipython",
    "version": 3
   },
   "file_extension": ".py",
   "mimetype": "text/x-python",
   "name": "python",
   "nbconvert_exporter": "python",
   "pygments_lexer": "ipython3",
   "version": "3.7.1"
  }
 },
 "nbformat": 4,
 "nbformat_minor": 2
}
